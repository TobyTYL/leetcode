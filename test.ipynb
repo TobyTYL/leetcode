{
 "cells": [
  {
   "cell_type": "code",
   "execution_count": 1,
   "metadata": {},
   "outputs": [],
   "source": [
    "def solution(A):\n",
    "    # sort the array in ascending order\n",
    "    A.sort()\n",
    "\n",
    "    # initialize pointers i and j\n",
    "    i = 0\n",
    "    j = 0\n",
    "\n",
    "    # initialize maximum spike length to 0\n",
    "    max_spike_length = 0\n",
    "\n",
    "    while i < len(A):\n",
    "        # find increasing part of spike\n",
    "        while j < len(A) - 1 and A[j+1] > A[j]:\n",
    "            j += 1\n",
    "\n",
    "        # find decreasing part of spike\n",
    "        while j < len(A) - 1 and A[j+1] < A[j]:\n",
    "            j += 1\n",
    "\n",
    "        # calculate spike length and update maximum\n",
    "        spike_length = j - i + 1\n",
    "        max_spike_length = max(max_spike_length, spike_length)\n",
    "\n",
    "        # move pointers to end of spike\n",
    "        i = j\n",
    "        j += 1\n",
    "\n",
    "    return max_spike_length\n"
   ]
  },
  {
   "cell_type": "code",
   "execution_count": 9,
   "metadata": {},
   "outputs": [
    {
     "name": "stdout",
     "output_type": "stream",
     "text": [
      "5\n"
     ]
    }
   ],
   "source": [
    "a = [2,5,3,2,4,1]\n",
    "print(solution(a))"
   ]
  },
  {
   "cell_type": "code",
   "execution_count": 15,
   "metadata": {},
   "outputs": [
    {
     "name": "stdout",
     "output_type": "stream",
     "text": [
      "[1, 2, 2, 3, 4, 5]\n"
     ]
    }
   ],
   "source": [
    "# We will call a sequence of integers a spike if they first increase (strictly) and then decrease (also strictly, including the last element of t increasing part).\n",
    "# For example(4, 5, 7, 6, 3, 2) is a spike, but(1, 1, 5, 4, 3) and (1, 4, 3, 5) are not.\n",
    "#  Note that the increasing and decreasing parts always intersect, e.g.: for spike(3, 5, 2) sequence(3, 5) is an increasing part and sequence(5, 2) is a decreasing part, and for spik (2) sequence(2) is both an increasing and a decreasing part.\n",
    "# Your are given an array A of N integers. Your task is to calculate the length of the longest possible spike, which can be created from numbers from array A. Note that you are NOT supposed to find the longest spike as a sub-sequence of A, but rather choose some numbers from A and reorder them to create the longest spike.\n",
    "\n",
    "def solution1(lst):\n",
    "    lst.sort()\n",
    "    return lst\n",
    "\n",
    "\n",
    "lst = [2, 5, 3, 2, 4, 1]\n",
    "print(solution1(lst))\n",
    "\n",
    "\n"
   ]
  },
  {
   "cell_type": "code",
   "execution_count": null,
   "metadata": {},
   "outputs": [],
   "source": []
  }
 ],
 "metadata": {
  "kernelspec": {
   "display_name": "Python 3",
   "language": "python",
   "name": "python3"
  },
  "language_info": {
   "codemirror_mode": {
    "name": "ipython",
    "version": 3
   },
   "file_extension": ".py",
   "mimetype": "text/x-python",
   "name": "python",
   "nbconvert_exporter": "python",
   "pygments_lexer": "ipython3",
   "version": "3.9.6"
  },
  "orig_nbformat": 4
 },
 "nbformat": 4,
 "nbformat_minor": 2
}
