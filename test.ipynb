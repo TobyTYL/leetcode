{
 "cells": [
  {
   "cell_type": "code",
   "execution_count": 19,
   "metadata": {},
   "outputs": [
    {
     "name": "stdout",
     "output_type": "stream",
     "text": [
      ")\n",
      "}\n",
      "False\n",
      "True\n"
     ]
    }
   ],
   "source": [
    "map_s = {\n",
    "    \"(\" : \")\",\n",
    "    \"[\" : \"]\",\n",
    "    \"{\" : \"}\"\n",
    "}\n",
    "stack = [\"(\",\")\",\"[\",\"]\",\"{\",\"}\"]\n",
    "stack_in = []\n",
    "print(map_s[\"(\"])\n",
    "print(stack[-1])\n",
    "print(not stack)\n",
    "print(not stack_in)"
   ]
  },
  {
   "cell_type": "code",
   "execution_count": null,
   "metadata": {},
   "outputs": [],
   "source": [
    "#include ‹sys/types.h>\n",
    "#include ‹unistd.h>\n",
    "#include ‹stdlib.h>\n",
    "void child_code(void) {\n",
    "    # Performs the child task. \n",
    "    exit(); \n",
    "}\n",
    "   \n",
    "int main(void) {\n",
    "    pid_t child;\n",
    "    while (1) {\n",
    "        # Reads the next user's input.\n",
    "        # Below creates a child to process it.\n",
    "        child = fork();\n",
    "        if (child == 0){\n",
    "            child_code();\n",
    "        }\n",
    "        else\n",
    "        if (child < 0){\n",
    "            printf(\"Error: Child not created\\n\");\n",
    "        }\n",
    "    }\n",
    "}\n",
    "\n",
    "Thank you for providing the code. The AR-fault in this code is related to an infinite loop that results from the while(1) statement in the main() function. Since this loop has no termination condition, the program will continue to execute indefinitely.\n",
    "\n",
    "This can cause the program to consume a significant amount of resources, such as CPU time and memory, which can result in system instability or failure. Additionally, the program creates a new child process on every iteration of the loop, which can lead to a large number of processes being created and consuming system resources. This can ultimately result in a system crash or other issues.\n",
    "\n",
    "To fix this AR-fault, the while(1) loop should be modified to include a termination condition, such as a user input or a specific event. This will prevent the program from executing indefinitely and consuming system resources.\n"
   ]
  },
  {
   "cell_type": "code",
   "execution_count": 4,
   "metadata": {},
   "outputs": [
    {
     "data": {
      "image/png": "[encoded data removed]",
      "text/plain": [
       "<Figure size 432x288 with 1 Axes>"
      ]
     },
     "metadata": {
      "needs_background": "light"
     },
     "output_type": "display_data"
    }
   ],
   "source": [
    "import matplotlib.pyplot as plt\n",
    "\n",
    "data = [50, 293, 763, 1097, 1355, 1567, 1745, 1900, 2037, 2159, 2269, 2370]\n",
    "months = range(1, len(data) + 1)\n",
    "\n",
    "plt.plot(months, data)\n",
    "plt.xlabel('Month')\n",
    "plt.ylabel('Memory size')\n",
    "plt.show()"
   ]
  },
  {
   "cell_type": "code",
   "execution_count": 59,
   "metadata": {},
   "outputs": [
    {
     "name": "stdout",
     "output_type": "stream",
     "text": [
      "Slope:  208.3531468531468\n",
      "Intercept:  112.78787878787898\n"
     ]
    }
   ],
   "source": [
    "import numpy as np\n",
    "from sklearn.linear_model import LinearRegression\n",
    "\n",
    "# Define the data\n",
    "data = np.array([50, 293, 763, 1097, 1355, 1567,\n",
    "                1745, 1900, 2037, 2159, 2269, 2370])\n",
    "\n",
    "# Create X and Y arrays\n",
    "X = np.arange(1, len(data)+1).reshape(-1, 1)  # month numbers\n",
    "Y = data.reshape(-1, 1)  # memory sizes\n",
    "\n",
    "# Create a linear regression object and fit the data\n",
    "reg = LinearRegression().fit(X, Y)\n",
    "\n",
    "# Print the slope and intercept of the regression line\n",
    "print(\"Slope: \", reg.coef_[0][0])\n",
    "print(\"Intercept: \", reg.intercept_[0])\n"
   ]
  },
  {
   "cell_type": "code",
   "execution_count": 62,
   "metadata": {},
   "outputs": [
    {
     "data": {
      "image/png": "[encoded data removed]",
      "text/plain": [
       "<Figure size 432x288 with 1 Axes>"
      ]
     },
     "metadata": {
      "needs_background": "light"
     },
     "output_type": "display_data"
    }
   ],
   "source": [
    "import numpy as np\n",
    "import matplotlib.pyplot as plt\n",
    "\n",
    "# Define the data\n",
    "x = np.array([i+1 for i in range(12)])\n",
    "y = np.array([50, 293, 763, 1097, 1355, 1567,\n",
    "             1745, 1900, 2037, 2159, 2269, 2370])\n",
    "\n",
    "# Fit a polynomial regression of degree 3\n",
    "coefficients = np.polyfit(x, y, 3)\n",
    "p = np.poly1d(coefficients)\n",
    "\n",
    "# Plot the data and the regression line\n",
    "plt.scatter(x, y)\n",
    "plt.plot(x, p(x), color='red')\n",
    "plt.xlabel('Month')\n",
    "plt.ylabel('Memory size (MB)')\n",
    "plt.show()\n"
   ]
  },
  {
   "cell_type": "code",
   "execution_count": 5,
   "metadata": {},
   "outputs": [
    {
     "ename": "IndexError",
     "evalue": "index 0 is out of bounds for axis 0 with size 0",
     "output_type": "error",
     "traceback": [
      "\u001b[0;31m---------------------------------------------------------------------------\u001b[0m",
      "\u001b[0;31mIndexError\u001b[0m                                Traceback (most recent call last)",
      "\u001b[0;32m/var/folders/q9/5kvzwq1s64b_3r_sxv2fm2t00000gn/T/ipykernel_46262/2333106331.py\u001b[0m in \u001b[0;36m<module>\u001b[0;34m\u001b[0m\n\u001b[1;32m      3\u001b[0m \u001b[0;34m\u001b[0m\u001b[0m\n\u001b[1;32m      4\u001b[0m \u001b[0;31m# Keep the real root (ignore any complex roots)\u001b[0m\u001b[0;34m\u001b[0m\u001b[0;34m\u001b[0m\u001b[0;34m\u001b[0m\u001b[0m\n\u001b[0;32m----> 5\u001b[0;31m \u001b[0mroot\u001b[0m \u001b[0;34m=\u001b[0m \u001b[0mroots\u001b[0m\u001b[0;34m[\u001b[0m\u001b[0mnp\u001b[0m\u001b[0;34m.\u001b[0m\u001b[0misreal\u001b[0m\u001b[0;34m(\u001b[0m\u001b[0mroots\u001b[0m\u001b[0;34m)\u001b[0m\u001b[0;34m]\u001b[0m\u001b[0;34m[\u001b[0m\u001b[0;36m0\u001b[0m\u001b[0;34m]\u001b[0m\u001b[0;34m.\u001b[0m\u001b[0mreal\u001b[0m\u001b[0;34m\u001b[0m\u001b[0;34m\u001b[0m\u001b[0m\n\u001b[0m\u001b[1;32m      6\u001b[0m \u001b[0;34m\u001b[0m\u001b[0m\n\u001b[1;32m      7\u001b[0m \u001b[0mprint\u001b[0m\u001b[0;34m(\u001b[0m\u001b[0;34m'Expected time to AR-failure: {:.2f} months'\u001b[0m\u001b[0;34m.\u001b[0m\u001b[0mformat\u001b[0m\u001b[0;34m(\u001b[0m\u001b[0mroot\u001b[0m\u001b[0;34m)\u001b[0m\u001b[0;34m)\u001b[0m\u001b[0;34m\u001b[0m\u001b[0;34m\u001b[0m\u001b[0m\n",
      "\u001b[0;31mIndexError\u001b[0m: index 0 is out of bounds for axis 0 with size 0"
     ]
    }
   ],
   "source": [
    "# Solve for when the polynomial equals 2800\n",
    "roots = np.roots(poly_fit - 2800)\n",
    "\n",
    "# Keep the real root (ignore any complex roots)\n",
    "root = roots[np.isreal(roots)][0].real\n",
    "\n",
    "print('Expected time to AR-failure: {:.2f} months'.format(root))\n"
   ]
  },
  {
   "cell_type": "code",
   "execution_count": 20,
   "metadata": {},
   "outputs": [
    {
     "name": "stdout",
     "output_type": "stream",
     "text": [
      "Aging effect accumulation rate: 208.35 MB/month\n",
      "Expected time to AR-failure: 14 months\n",
      "Expected yearly downtime: 36.82 seconds\n"
     ]
    }
   ],
   "source": [
    "import numpy as np\n",
    "\n",
    "# Memory size of the satellite's main application process (in MB)\n",
    "memory_size = [50, 293, 763, 1097, 1355,\n",
    "               1567, 1745, 1900, 2037, 2159, 2269, 2370]\n",
    "\n",
    "# Maximum memory size (in MB) before the process is terminated\n",
    "max_memory_size = 2.8 * 1024\n",
    "\n",
    "# Calculate the aging effect accumulation rate\n",
    "# Using linear regression to find the slope of the memory size trendline\n",
    "x = np.arange(1, 13)\n",
    "y = np.array(memory_size)\n",
    "slope, intercept = np.polyfit(x, y, 1)\n",
    "print(\"Aging effect accumulation rate: {:.2f} MB/month\".format(slope))\n",
    "\n",
    "# Calculate the expected time to AR-failure (in months)\n",
    "# Using the equation of the memory size trendline to predict when the process will exceed max_memory_size\n",
    "expected_month = int(np.ceil((max_memory_size - intercept) / slope))\n",
    "print(\"Expected time to AR-failure: {} months\".format(expected_month))\n",
    "\n",
    "# Calculate the expected yearly downtime (in seconds)\n",
    "expected_downtime = expected_month * 31.56 / 12\n",
    "print(\"Expected yearly downtime: {:.2f} seconds\".format(expected_downtime))\n"
   ]
  },
  {
   "cell_type": "code",
   "execution_count": 21,
   "metadata": {},
   "outputs": [
    {
     "data": {
      "image/png": "[encoded data removed]",
      "text/plain": [
       "<Figure size 432x288 with 1 Axes>"
      ]
     },
     "metadata": {
      "needs_background": "light"
     },
     "output_type": "display_data"
    }
   ],
   "source": [
    "import matplotlib.pyplot as plt\n",
    "\n",
    "data = [50, 293, 763, 1097, 1355, 1567, 1745, 1900, 2037, 2159, 2269, 2370]\n",
    "months = range(1, 13)\n",
    "\n",
    "plt.plot(months, data)\n",
    "plt.xlabel('Month')\n",
    "plt.ylabel('Memory size (MB)')\n",
    "plt.title('Memory size of satellite process over time')\n",
    "plt.show()\n"
   ]
  },
  {
   "cell_type": "code",
   "execution_count": 29,
   "metadata": {},
   "outputs": [
    {
     "data": {
      "image/png": "[encoded data removed]",
      "text/plain": [
       "<Figure size 432x288 with 1 Axes>"
      ]
     },
     "metadata": {
      "needs_background": "light"
     },
     "output_type": "display_data"
    }
   ],
   "source": [
    "import numpy as np\n",
    "import matplotlib.pyplot as plt\n",
    "\n",
    "# Data\n",
    "memory_sizes = np.array(\n",
    "    [50, 293, 763, 1097, 1355, 1567, 1745, 1900, 2037, 2159, 2269, 2370])\n",
    "months = np.arange(1, len(memory_sizes)+1)\n",
    "\n",
    "# Calculate expected time to AR-failure\n",
    "max_memory = 2.8 * 1024  # in megabytes\n",
    "growth_rate = np.polyfit(months, memory_sizes, deg=1)[0]  # linear regression\n",
    "expected_months_to_failure = (max_memory - memory_sizes[-1]) / growth_rate\n",
    "\n",
    "# Plot\n",
    "plt.plot(months, memory_sizes, 'bo', label='Monitored data')\n",
    "plt.plot(months, np.polyval(np.polyfit(months, memory_sizes, deg=1),\n",
    "         months), 'r-')\n",
    "\n",
    "plt.xlabel('Month')\n",
    "plt.ylabel('Memory size (MB)')\n",
    "plt.legend()\n",
    "plt.show()\n"
   ]
  },
  {
   "cell_type": "code",
   "execution_count": null,
   "metadata": {},
   "outputs": [],
   "source": [
    "#include <unistd.h>\n",
    "#include <stdio.h>\n",
    "#include <stalib.h>\n",
    "#include <pthread.h>\n",
    "\n",
    "#define N_THREADS 100\n",
    "\n",
    "int counter;\n",
    "\n",
    "void * thread_code(void * arg) {\n",
    "    counter = counter + 1;\n",
    "    pthread_exit(0); \n",
    "}\n",
    "\n",
    "void start threads() {\n",
    "    int i;\n",
    "    pthread_t threads[N_THREADS];\n",
    "    counter = 0;\n",
    "    for (i=0; ¡ < N THREADS; i++) {\n",
    "        pthread_create( & threads[i], NULL, thread _code, NULL);\n",
    "    }\n",
    "    for (¡=0; i < N THREADS; i++) {\n",
    "        pthread _join(threads[], NULL); \n",
    "    }\n",
    "\n",
    "    printf(\"Counter value: %d\\n\", counter);\n",
    "}\n",
    "int main() {\n",
    "    start_threads();\n",
    "    return EXIT_SUCCESS; \n",
    "}\n"
   ]
  },
  {
   "cell_type": "code",
   "execution_count": 30,
   "metadata": {},
   "outputs": [
    {
     "ename": "FileNotFoundError",
     "evalue": "[Errno 2] No such file or directory: './program'",
     "output_type": "error",
     "traceback": [
      "\u001b[0;31m---------------------------------------------------------------------------\u001b[0m",
      "\u001b[0;31mFileNotFoundError\u001b[0m                         Traceback (most recent call last)",
      "\u001b[0;32m/var/folders/q9/5kvzwq1s64b_3r_sxv2fm2t00000gn/T/ipykernel_46262/1575170258.py\u001b[0m in \u001b[0;36m<module>\u001b[0;34m\u001b[0m\n\u001b[1;32m     11\u001b[0m \u001b[0;31m# Run the test multiple times\u001b[0m\u001b[0;34m\u001b[0m\u001b[0;34m\u001b[0m\u001b[0;34m\u001b[0m\u001b[0m\n\u001b[1;32m     12\u001b[0m \u001b[0;32mfor\u001b[0m \u001b[0mi\u001b[0m \u001b[0;32min\u001b[0m \u001b[0mrange\u001b[0m\u001b[0;34m(\u001b[0m\u001b[0;36m100\u001b[0m\u001b[0;34m)\u001b[0m\u001b[0;34m:\u001b[0m\u001b[0;34m\u001b[0m\u001b[0;34m\u001b[0m\u001b[0m\n\u001b[0;32m---> 13\u001b[0;31m     \u001b[0mresult\u001b[0m \u001b[0;34m=\u001b[0m \u001b[0mrun_test\u001b[0m\u001b[0;34m(\u001b[0m\u001b[0;34m)\u001b[0m\u001b[0;34m\u001b[0m\u001b[0;34m\u001b[0m\u001b[0m\n\u001b[0m\u001b[1;32m     14\u001b[0m     \u001b[0mprint\u001b[0m\u001b[0;34m(\u001b[0m\u001b[0;34mf\"Test {i+1}: {result}\"\u001b[0m\u001b[0;34m)\u001b[0m\u001b[0;34m\u001b[0m\u001b[0;34m\u001b[0m\u001b[0m\n",
      "\u001b[0;32m/var/folders/q9/5kvzwq1s64b_3r_sxv2fm2t00000gn/T/ipykernel_46262/1575170258.py\u001b[0m in \u001b[0;36mrun_test\u001b[0;34m()\u001b[0m\n\u001b[1;32m      2\u001b[0m \u001b[0;34m\u001b[0m\u001b[0m\n\u001b[1;32m      3\u001b[0m \u001b[0;32mdef\u001b[0m \u001b[0mrun_test\u001b[0m\u001b[0;34m(\u001b[0m\u001b[0;34m)\u001b[0m\u001b[0;34m:\u001b[0m\u001b[0;34m\u001b[0m\u001b[0;34m\u001b[0m\u001b[0m\n\u001b[0;32m----> 4\u001b[0;31m     \u001b[0mprocess\u001b[0m \u001b[0;34m=\u001b[0m \u001b[0msubprocess\u001b[0m\u001b[0;34m.\u001b[0m\u001b[0mPopen\u001b[0m\u001b[0;34m(\u001b[0m\u001b[0;34m\"./program\"\u001b[0m\u001b[0;34m,\u001b[0m \u001b[0mstdout\u001b[0m\u001b[0;34m=\u001b[0m\u001b[0msubprocess\u001b[0m\u001b[0;34m.\u001b[0m\u001b[0mPIPE\u001b[0m\u001b[0;34m,\u001b[0m \u001b[0mstderr\u001b[0m\u001b[0;34m=\u001b[0m\u001b[0msubprocess\u001b[0m\u001b[0;34m.\u001b[0m\u001b[0mPIPE\u001b[0m\u001b[0;34m)\u001b[0m\u001b[0;34m\u001b[0m\u001b[0;34m\u001b[0m\u001b[0m\n\u001b[0m\u001b[1;32m      5\u001b[0m     \u001b[0mstdout\u001b[0m\u001b[0;34m,\u001b[0m \u001b[0mstderr\u001b[0m \u001b[0;34m=\u001b[0m \u001b[0mprocess\u001b[0m\u001b[0;34m.\u001b[0m\u001b[0mcommunicate\u001b[0m\u001b[0;34m(\u001b[0m\u001b[0;34m)\u001b[0m\u001b[0;34m\u001b[0m\u001b[0;34m\u001b[0m\u001b[0m\n\u001b[1;32m      6\u001b[0m     \u001b[0;32mif\u001b[0m \u001b[0;34m\"Counter value: 100\"\u001b[0m \u001b[0;32min\u001b[0m \u001b[0mstr\u001b[0m\u001b[0;34m(\u001b[0m\u001b[0mstdout\u001b[0m\u001b[0;34m)\u001b[0m\u001b[0;34m:\u001b[0m\u001b[0;34m\u001b[0m\u001b[0;34m\u001b[0m\u001b[0m\n",
      "\u001b[0;32m~/opt/anaconda3/lib/python3.8/subprocess.py\u001b[0m in \u001b[0;36m__init__\u001b[0;34m(self, args, bufsize, executable, stdin, stdout, stderr, preexec_fn, close_fds, shell, cwd, env, universal_newlines, startupinfo, creationflags, restore_signals, start_new_session, pass_fds, encoding, errors, text)\u001b[0m\n\u001b[1;32m    856\u001b[0m                             encoding=encoding, errors=errors)\n\u001b[1;32m    857\u001b[0m \u001b[0;34m\u001b[0m\u001b[0m\n\u001b[0;32m--> 858\u001b[0;31m             self._execute_child(args, executable, preexec_fn, close_fds,\n\u001b[0m\u001b[1;32m    859\u001b[0m                                 \u001b[0mpass_fds\u001b[0m\u001b[0;34m,\u001b[0m \u001b[0mcwd\u001b[0m\u001b[0;34m,\u001b[0m \u001b[0menv\u001b[0m\u001b[0;34m,\u001b[0m\u001b[0;34m\u001b[0m\u001b[0;34m\u001b[0m\u001b[0m\n\u001b[1;32m    860\u001b[0m                                 \u001b[0mstartupinfo\u001b[0m\u001b[0;34m,\u001b[0m \u001b[0mcreationflags\u001b[0m\u001b[0;34m,\u001b[0m \u001b[0mshell\u001b[0m\u001b[0;34m,\u001b[0m\u001b[0;34m\u001b[0m\u001b[0;34m\u001b[0m\u001b[0m\n",
      "\u001b[0;32m~/opt/anaconda3/lib/python3.8/subprocess.py\u001b[0m in \u001b[0;36m_execute_child\u001b[0;34m(self, args, executable, preexec_fn, close_fds, pass_fds, cwd, env, startupinfo, creationflags, shell, p2cread, p2cwrite, c2pread, c2pwrite, errread, errwrite, restore_signals, start_new_session)\u001b[0m\n\u001b[1;32m   1704\u001b[0m                     \u001b[0;32mif\u001b[0m \u001b[0merrno_num\u001b[0m \u001b[0;34m!=\u001b[0m \u001b[0;36m0\u001b[0m\u001b[0;34m:\u001b[0m\u001b[0;34m\u001b[0m\u001b[0;34m\u001b[0m\u001b[0m\n\u001b[1;32m   1705\u001b[0m                         \u001b[0merr_msg\u001b[0m \u001b[0;34m=\u001b[0m \u001b[0mos\u001b[0m\u001b[0;34m.\u001b[0m\u001b[0mstrerror\u001b[0m\u001b[0;34m(\u001b[0m\u001b[0merrno_num\u001b[0m\u001b[0;34m)\u001b[0m\u001b[0;34m\u001b[0m\u001b[0;34m\u001b[0m\u001b[0m\n\u001b[0;32m-> 1706\u001b[0;31m                     \u001b[0;32mraise\u001b[0m \u001b[0mchild_exception_type\u001b[0m\u001b[0;34m(\u001b[0m\u001b[0merrno_num\u001b[0m\u001b[0;34m,\u001b[0m \u001b[0merr_msg\u001b[0m\u001b[0;34m,\u001b[0m \u001b[0merr_filename\u001b[0m\u001b[0;34m)\u001b[0m\u001b[0;34m\u001b[0m\u001b[0;34m\u001b[0m\u001b[0m\n\u001b[0m\u001b[1;32m   1707\u001b[0m                 \u001b[0;32mraise\u001b[0m \u001b[0mchild_exception_type\u001b[0m\u001b[0;34m(\u001b[0m\u001b[0merr_msg\u001b[0m\u001b[0;34m)\u001b[0m\u001b[0;34m\u001b[0m\u001b[0;34m\u001b[0m\u001b[0m\n\u001b[1;32m   1708\u001b[0m \u001b[0;34m\u001b[0m\u001b[0m\n",
      "\u001b[0;31mFileNotFoundError\u001b[0m: [Errno 2] No such file or directory: './program'"
     ]
    }
   ],
   "source": [
    "import subprocess\n",
    "\n",
    "\n",
    "def run_test():\n",
    "    process = subprocess.Popen(\n",
    "        \"./program\", stdout=subprocess.PIPE, stderr=subprocess.PIPE)\n",
    "    stdout, stderr = process.communicate()\n",
    "    if \"Counter value: 100\" in str(stdout):\n",
    "        return \"pass\"\n",
    "    else:\n",
    "        return \"fail\"\n",
    "\n",
    "\n",
    "# Run the test multiple times\n",
    "for i in range(100):\n",
    "    result = run_test()\n",
    "    print(f\"Test {i+1}: {result}\")\n"
   ]
  },
  {
   "cell_type": "code",
   "execution_count": 34,
   "metadata": {},
   "outputs": [
    {
     "data": {
      "image/png": "[encoded data removed]",
      "text/plain": [
       "<Figure size 432x288 with 1 Axes>"
      ]
     },
     "metadata": {
      "needs_background": "light"
     },
     "output_type": "display_data"
    }
   ],
   "source": [
    "import matplotlib.pyplot as plt\n",
    "import numpy as np\n",
    "\n",
    "memory_sizes = [50, 293, 763, 1097, 1355,\n",
    "                1567, 1745, 1900, 2037, 2159, 2269, 2370]\n",
    "\n",
    "time_months = np.arange(1, 13)\n",
    "\n",
    "plt.plot(time_months, memory_sizes, '-o')\n",
    "plt.xlabel('Time (months)')\n",
    "plt.ylabel('Memory size (MB)')\n",
    "plt.show()\n"
   ]
  },
  {
   "cell_type": "code",
   "execution_count": 35,
   "metadata": {},
   "outputs": [
    {
     "name": "stdout",
     "output_type": "stream",
     "text": [
      "The expected time to AR-failure is 0 months.\n"
     ]
    }
   ],
   "source": [
    "polyfit = np.polyfit(time_months, memory_sizes, 2)\n",
    "a = polyfit[0]\n",
    "b = polyfit[1]\n",
    "c = polyfit[2]\n",
    "\n",
    "\n",
    "def mem_size(t):\n",
    "    return a*t**2 + b*t + c\n",
    "\n",
    "\n",
    "time_ar_failure = 0\n",
    "mem_size_ar_failure = 2.8 * 1024  # in MB\n",
    "\n",
    "for t in range(1, 10000):\n",
    "    if mem_size(t) > mem_size_ar_failure:\n",
    "        time_ar_failure = t\n",
    "        break\n",
    "\n",
    "print(f\"The expected time to AR-failure is {time_ar_failure} months.\")\n"
   ]
  },
  {
   "cell_type": "code",
   "execution_count": 37,
   "metadata": {},
   "outputs": [
    {
     "name": "stdout",
     "output_type": "stream",
     "text": [
      "Expected time to AR-failure: nan months\n"
     ]
    },
    {
     "name": "stderr",
     "output_type": "stream",
     "text": [
      "/var/folders/q9/5kvzwq1s64b_3r_sxv2fm2t00000gn/T/ipykernel_46262/2048626046.py:20: RuntimeWarning: invalid value encountered in log\n",
      "  np.log(1 - monthly_failure_prob) / expected_failures_per_month\n"
     ]
    }
   ],
   "source": [
    "import numpy as np\n",
    "\n",
    "# define constants\n",
    "availability_target = 0.999999\n",
    "annual_downtime = 31.56\n",
    "memory_limit = 2.8 * 1024 * 1024  # in megabytes\n",
    "\n",
    "# convert memory usage data to bytes\n",
    "memory_data = np.array([50, 293, 763, 1097, 1355, 1567,\n",
    "                       1745, 1900, 2037, 2159, 2269, 2370]) * 1024 * 1024\n",
    "\n",
    "# calculate monthly failure probability based on memory usage data\n",
    "failure_probabilities = memory_data / memory_limit\n",
    "monthly_failure_prob = np.mean(failure_probabilities)\n",
    "\n",
    "# calculate expected time to failure in months\n",
    "expected_failures_per_year = 1 - availability_target\n",
    "expected_failures_per_month = expected_failures_per_year / 12\n",
    "expected_time_to_failure_months = - \\\n",
    "    np.log(1 - monthly_failure_prob) / expected_failures_per_month\n",
    "\n",
    "print(\n",
    "    f\"Expected time to AR-failure: {expected_time_to_failure_months:.2f} months\")\n"
   ]
  },
  {
   "cell_type": "code",
   "execution_count": 40,
   "metadata": {},
   "outputs": [
    {
     "name": "stdout",
     "output_type": "stream",
     "text": [
      "Expected time to AR-failure is 0.42 months\n"
     ]
    }
   ],
   "source": [
    "data = [50, 293, 763, 1097, 1355, 1567, 1745, 1900, 2037, 2159, 2269, 2370]\n",
    "threshold = 2.8 * 1024  # in megabytes\n",
    "\n",
    "cumulative = []\n",
    "cumulative_sum = 0\n",
    "for i in range(len(data)):\n",
    "    cumulative_sum += data[i]\n",
    "    cumulative.append(cumulative_sum)\n",
    "\n",
    "index = next((i for i, x in enumerate(cumulative)\n",
    "             if x >= threshold), len(data))\n",
    "failure_time = (index + 1) / 12\n",
    "\n",
    "print(f\"Expected time to AR-failure is {failure_time:.2f} months\")\n"
   ]
  },
  {
   "cell_type": "code",
   "execution_count": 48,
   "metadata": {},
   "outputs": [
    {
     "name": "stdout",
     "output_type": "stream",
     "text": [
      "The process does not exceed the maximum memory size\n"
     ]
    },
    {
     "ename": "ZeroDivisionError",
     "evalue": "integer division or modulo by zero",
     "output_type": "error",
     "traceback": [
      "\u001b[0;31m---------------------------------------------------------------------------\u001b[0m",
      "\u001b[0;31mZeroDivisionError\u001b[0m                         Traceback (most recent call last)",
      "\u001b[0;32m/var/folders/q9/5kvzwq1s64b_3r_sxv2fm2t00000gn/T/ipykernel_46262/537591722.py\u001b[0m in \u001b[0;36m<module>\u001b[0;34m\u001b[0m\n\u001b[1;32m     10\u001b[0m     \u001b[0mcumulative_failures\u001b[0m \u001b[0;34m=\u001b[0m \u001b[0msum\u001b[0m\u001b[0;34m(\u001b[0m\u001b[0;36m1\u001b[0m \u001b[0;32mfor\u001b[0m \u001b[0msize\u001b[0m \u001b[0;32min\u001b[0m \u001b[0mdata\u001b[0m \u001b[0;32mif\u001b[0m \u001b[0msize\u001b[0m \u001b[0;34m>=\u001b[0m \u001b[0mmax_size\u001b[0m\u001b[0;34m)\u001b[0m\u001b[0;34m\u001b[0m\u001b[0;34m\u001b[0m\u001b[0m\n\u001b[1;32m     11\u001b[0m     \u001b[0mexpected_failures\u001b[0m \u001b[0;34m=\u001b[0m \u001b[0mcumulative_failures\u001b[0m \u001b[0;34m//\u001b[0m \u001b[0mlen\u001b[0m\u001b[0;34m(\u001b[0m\u001b[0mdata\u001b[0m\u001b[0;34m)\u001b[0m\u001b[0;34m\u001b[0m\u001b[0;34m\u001b[0m\u001b[0m\n\u001b[0;32m---> 12\u001b[0;31m     \u001b[0mexpected_time\u001b[0m \u001b[0;34m=\u001b[0m \u001b[0;36m1\u001b[0m \u001b[0;34m//\u001b[0m \u001b[0mexpected_failures\u001b[0m\u001b[0;34m\u001b[0m\u001b[0;34m\u001b[0m\u001b[0m\n\u001b[0m\u001b[1;32m     13\u001b[0m     \u001b[0mprint\u001b[0m\u001b[0;34m(\u001b[0m\u001b[0mexpected_time\u001b[0m\u001b[0;34m,\u001b[0m \u001b[0;34m\"months\"\u001b[0m\u001b[0;34m)\u001b[0m\u001b[0;34m\u001b[0m\u001b[0;34m\u001b[0m\u001b[0m\n",
      "\u001b[0;31mZeroDivisionError\u001b[0m: integer division or modulo by zero"
     ]
    }
   ],
   "source": [
    "data = [50, 293, 763, 1097, 1355, 1567, 1745, 1900, 2037, 2159, 2269, 2370]\n",
    "max_size = 2800  # maximum allowed memory size in MB\n",
    "\n",
    "for i, size in enumerate(data):\n",
    "    if size >= max_size:\n",
    "        print(i+1, \"months\")\n",
    "        break\n",
    "else:\n",
    "    print(\"The process does not exceed the maximum memory size\")\n",
    "    cumulative_failures = sum(1 for size in data if size >= max_size)\n",
    "    expected_failures = cumulative_failures // len(data)\n",
    "    expected_time = 1 // expected_failures\n",
    "    print(expected_time, \"months\")\n"
   ]
  },
  {
   "cell_type": "code",
   "execution_count": 50,
   "metadata": {},
   "outputs": [
    {
     "name": "stdout",
     "output_type": "stream",
     "text": [
      "The process does not exceed the maximum memory size\n",
      "There were no failures detected.\n"
     ]
    }
   ],
   "source": [
    "data = [50, 293, 763, 1097, 1355, 1567, 1745, 1900, 2037, 2159, 2269, 2370]\n",
    "max_size = 2800  # maximum allowed memory size in MB\n",
    "\n",
    "for i, size in enumerate(data):\n",
    "    if size >= max_size:\n",
    "        print(f\"The process exceeds the maximum memory size at month {i+1}\")\n",
    "        break\n",
    "else:\n",
    "    print(\"The process does not exceed the maximum memory size\")\n",
    "    cumulative_failures = sum(1 for size in data if size >= max_size)\n",
    "    if cumulative_failures == 0:\n",
    "        print(\"There were no failures detected.\")\n",
    "    else:\n",
    "        expected_failures = cumulative_failures / len(data)\n",
    "        expected_time = 1 / expected_failures\n",
    "        print(f\"The expected time to failure is {expected_time:.2f} months\")\n"
   ]
  },
  {
   "cell_type": "code",
   "execution_count": 52,
   "metadata": {},
   "outputs": [
    {
     "name": "stdout",
     "output_type": "stream",
     "text": [
      "The process does not exceed the maximum memory size\n",
      "There were no failures detected.\n"
     ]
    }
   ],
   "source": [
    "data = [50, 293, 763, 1097, 1355, 1567, 1745, 1900, 2037, 2159, 2269, 2370]\n",
    "max_size = 2800  # maximum allowed memory size in MB\n",
    "\n",
    "for i, size in enumerate(data):\n",
    "    if size >= max_size:\n",
    "        print(f\"The process exceeds the maximum memory size at month {i+1}\")\n",
    "        break\n",
    "else:\n",
    "    print(\"The process does not exceed the maximum memory size\")\n",
    "    cumulative_failures = sum(1 for size in data if size >= max_size)\n",
    "    if cumulative_failures == 0:\n",
    "        print(\"There were no failures detected.\")\n",
    "    else:\n",
    "        expected_failures = cumulative_failures / len(data)\n",
    "        expected_time = 1 / expected_failures\n",
    "        print(f\"The expected time to failure is {expected_time:.2f} months\")\n"
   ]
  },
  {
   "cell_type": "code",
   "execution_count": null,
   "metadata": {},
   "outputs": [],
   "source": []
  }
 ],
 "metadata": {
  "kernelspec": {
   "display_name": "Python 3",
   "language": "python",
   "name": "python3"
  },
  "language_info": {
   "codemirror_mode": {
    "name": "ipython",
    "version": 3
   },
   "file_extension": ".py",
   "mimetype": "text/x-python",
   "name": "python",
   "nbconvert_exporter": "python",
   "pygments_lexer": "ipython3",
   "version": "3.8.8"
  },
  "orig_nbformat": 4,
  "vscode": {
   "interpreter": {
    "hash": "aee8b7b246df8f9039afb4144a1f6fd8d2ca17a180786b69acc140d282b71a49"
   }
  }
 },
 "nbformat": 4,
 "nbformat_minor": 2
}
