{
 "cells": [
  {
   "cell_type": "code",
   "execution_count": 2,
   "metadata": {},
   "outputs": [],
   "source": [
    "def solution(A):\n",
    "    # Sort the array in increasing order\n",
    "    A.sort()\n",
    "    \n",
    "    # Initialize pointers for the increasing and decreasing parts of the spike\n",
    "    i = j = 0\n",
    "    k = l = len(A) - 1\n",
    "    \n",
    "    # Find the increasing part of the spike\n",
    "    while j < len(A):\n",
    "        if A[j] > A[i]:\n",
    "            i = j\n",
    "        j += 1\n",
    "    \n",
    "    # Find the decreasing part of the spike\n",
    "    while l >= 0:\n",
    "        if A[l] > A[k]:\n",
    "            k = l\n",
    "        l -= 1\n",
    "    \n",
    "    # Calculate the length of the spike\n",
    "    return k - i + 1 if k > i else 0\n"
   ]
  },
  {
   "cell_type": "code",
   "execution_count": 5,
   "metadata": {},
   "outputs": [
    {
     "name": "stdout",
     "output_type": "stream",
     "text": [
      "0\n"
     ]
    }
   ],
   "source": [
    "a = [1,2]\n",
    "print(solution(a))"
   ]
  },
  {
   "cell_type": "code",
   "execution_count": null,
   "metadata": {},
   "outputs": [],
   "source": [
    "# We will call a sequence of integers a spike if they first increase (strictly) and then decrease (also strictly, including the last element of t increasing part).\n",
    "# For example(4, 5, 7, 6, 3, 2) is a spike, but(1, 1, 5, 4, 3) and (1, 4, 3, 5) are not.\n",
    "#  Note that the increasing and decreasing parts always intersect, e.g.: for spike(3, 5, 2) sequence(3, 5) is an increasing part and sequence(5, 2) is a decreasing part, and for spik (2) sequence(2) is both an increasing and a decreasing part.\n",
    "# Your are given an array A of N integers. Your task is to calculate the length of the longest possible spike, which can be created from numbers from array A. Note that you are NOT supposed to find the longest spike as a sub-sequence of A, but rather choose some numbers from A and reorder them to create the longest spike.\n",
    "\n",
    "def solution1()\n",
    "\n",
    "\n"
   ]
  }
 ],
 "metadata": {
  "kernelspec": {
   "display_name": "Python 3",
   "language": "python",
   "name": "python3"
  },
  "language_info": {
   "codemirror_mode": {
    "name": "ipython",
    "version": 3
   },
   "file_extension": ".py",
   "mimetype": "text/x-python",
   "name": "python",
   "nbconvert_exporter": "python",
   "pygments_lexer": "ipython3",
   "version": "3.9.6"
  },
  "orig_nbformat": 4
 },
 "nbformat": 4,
 "nbformat_minor": 2
}
